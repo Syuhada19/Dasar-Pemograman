{
 "cells": [
  {
   "cell_type": "code",
   "execution_count": 6,
   "id": "5376c54a",
   "metadata": {},
   "outputs": [
    {
     "name": "stdout",
     "output_type": "stream",
     "text": [
      "insert your first name:Muhammad\n",
      "insert your middle name:Fajar\n",
      "insert your last name:Syuhada\n",
      "Hello  Muhammad Fajar Syuhada !!\n"
     ]
    }
   ],
   "source": [
    "first_name = input('insert your first name:')\n",
    "middle_name = input('insert your middle name:')\n",
    "last_name = input('insert your last name:')\n",
    "\n",
    "print(\"Hello \", first_name, middle_name, last_name, \"!!\")"
   ]
  },
  {
   "cell_type": "code",
   "execution_count": 9,
   "id": "6cc527aa",
   "metadata": {},
   "outputs": [
    {
     "name": "stdout",
     "output_type": "stream",
     "text": [
      "masukan nilai sisi panjang5\n",
      "masukan nilai sisi lebar5\n",
      "Luas persegi panjang 15\n",
      "keliling persegi panjang 16\n"
     ]
    }
   ],
   "source": [
    "#Menghitung luas dan Keliling Persegi Panjang\n",
    "\n",
    "panjang = input(\"masukan nilai sisi panjang\")\n",
    "luas = input(\"masukan nilai sisi lebar\")\n",
    "\n",
    "luas = int(panjang) * int(lebar)\n",
    "keliling = 2 * (int(panjang) + int(lebar))\n",
    "\n",
    "print(\"Luas persegi panjang\", luas)\n",
    "print(\"keliling persegi panjang\", keliling)"
   ]
  },
  {
   "cell_type": "code",
   "execution_count": 10,
   "id": "da1df562",
   "metadata": {},
   "outputs": [
    {
     "name": "stdout",
     "output_type": "stream",
     "text": [
      "18-oktober-2024\n",
      "18\n",
      "oktober\n",
      "2024\n"
     ]
    }
   ],
   "source": [
    "print(\"18\", \"oktober\", \"2024\", sep='-') #Escape character\n",
    "#18\n",
    "#Oktober\n",
    "#2024\n",
    "print(\"18\", \"oktober\", \"2024\", sep='\\n')"
   ]
  },
  {
   "cell_type": "code",
   "execution_count": 14,
   "id": "f47f47a9",
   "metadata": {},
   "outputs": [
    {
     "name": "stdout",
     "output_type": "stream",
     "text": [
      "1++++++++++2++++++++++3++++++++++4++++++++++5.........."
     ]
    }
   ],
   "source": [
    "print(\"1\",\"2\",\"3\",\"4\",\"5\", sep='+' * 10 ,end='.' * 10)"
   ]
  },
  {
   "cell_type": "code",
   "execution_count": 15,
   "id": "1bda1533",
   "metadata": {},
   "outputs": [
    {
     "name": "stdout",
     "output_type": "stream",
     "text": [
      "Luas Persegi dengan Lebar 10 dan panjang 20 = 200\n"
     ]
    }
   ],
   "source": [
    "#Memformat ouput\n",
    "\n",
    "l = 10\n",
    "p = 20\n",
    "\n",
    "#Luas Persegi dengan Lebar 10 dan Panjang 20 = 200\n",
    "print(\"Luas Persegi dengan Lebar {} dan panjang {} = {}\".format(l,p,l*p))"
   ]
  },
  {
   "cell_type": "code",
   "execution_count": 23,
   "id": "060ea1b4",
   "metadata": {},
   "outputs": [
    {
     "name": "stdout",
     "output_type": "stream",
     "text": [
      "Nama - nama bulan Januari, Febuari\n"
     ]
    }
   ],
   "source": [
    "#Memformat dengan Index\n",
    "\n",
    "bulan1 = \"Januari\"\n",
    "bulan2 = \"Febuari\"\n",
    "\n",
    "print(\"Nama - nama bulan {0}, {1}\".format(bulan1,bulan2))"
   ]
  },
  {
   "cell_type": "code",
   "execution_count": 25,
   "id": "018d9e0a",
   "metadata": {},
   "outputs": [
    {
     "name": "stdout",
     "output_type": "stream",
     "text": [
      "Nama saya Muhammad Fajar Syuhada\n"
     ]
    }
   ],
   "source": [
    "#Memformat dengan tanda pengenal\n",
    "\n",
    "print(\"Nama saya {fname} {mname} {lname}\".format(fname=\"Muhammad\", mname=\"Fajar\", lname=\"Syuhada\"))"
   ]
  },
  {
   "cell_type": "code",
   "execution_count": 37,
   "id": "42168d59",
   "metadata": {},
   "outputs": [
    {
     "name": "stdout",
     "output_type": "stream",
     "text": [
      "U\n",
      "a\n",
      "Universitas\n",
      "Nusa Putra\n",
      "Putra\n",
      "artuP asuN satisrevinU\n"
     ]
    }
   ],
   "source": [
    "kampus = \"Universitas Nusa Putra\"\n",
    "print(kampus[0])\n",
    "print(kampus[-1])\n",
    "\n",
    "#menggunakan Range\n",
    "print(kampus[0:11])\n",
    "print(kampus[12:])\n",
    "print(kampus[-5:])\n",
    "print(kampus[::-1])"
   ]
  },
  {
   "cell_type": "code",
   "execution_count": 40,
   "id": "60b9b8e5",
   "metadata": {},
   "outputs": [
    {
     "name": "stdout",
     "output_type": "stream",
     "text": [
      "luas persegi = 100\n",
      "keliling persegi = 25\n"
     ]
    }
   ],
   "source": [
    "#interpolasi dengan Fstring\n",
    "\n",
    "p = 5\n",
    "l = 20\n",
    "\n",
    "print(f'luas persegi = {l*p}')\n",
    "print(f'keliling persegi = {(p+l)}')"
   ]
  },
  {
   "cell_type": "code",
   "execution_count": 43,
   "id": "3ffc3207",
   "metadata": {},
   "outputs": [
    {
     "name": "stdout",
     "output_type": "stream",
     "text": [
      "['andri', 'budi', 'doni']\n",
      "andri@budi@doni\n"
     ]
    }
   ],
   "source": [
    "nama_siswa = \"andri,budi,doni\"\n",
    "\n",
    "print(nama_siswa.split(','))\n",
    "print('@'.join(nama_siswa.split(',')))"
   ]
  },
  {
   "cell_type": "code",
   "execution_count": 76,
   "id": "a4f24a13",
   "metadata": {},
   "outputs": [
    {
     "name": "stdout",
     "output_type": "stream",
     "text": [
      "Masukkan nama anda:Tedi Wijaya\n",
      "masukkan tanggal lahir anda:18\n",
      "Masukan bulan lahir anda:12\n",
      "Masukan tahun lahir anda:2003\n",
      "nama anda: Tedi Wijaya\n",
      "tanggal lahir: 18\n",
      "bulan lahir: 12\n",
      "tahun lahir: 2003\n",
      "inisial: ('T', 'W')\n"
     ]
    }
   ],
   "source": [
    "nama = input(\"Masukkan nama anda:\")\n",
    "Tanggal_Lahir = input(\"masukkan tanggal lahir anda:\")\n",
    "Bulan_lahir = input(\"Masukan bulan lahir anda:\")\n",
    "Tahun_lahir = input(\"Masukan tahun lahir anda:\")\n",
    "\n",
    "tgls = Tanggal_Lahir.split('/')\n",
    "blns = Bulan_lahir.split('/')\n",
    "thns = Tahun_lahir.split('/')\n",
    "inisial = nama.split('/')\n",
    "\n",
    "print(f\"nama anda: {nama}\")\n",
    "print(f\"tanggal lahir: {tgls[0]}\")\n",
    "print(f\"bulan lahir: {blns[0]}\")\n",
    "print(f\"tahun lahir: {thns[0]}\")\n",
    "print(f\"inisial: {nama[0] ,nama[5]}\")"
   ]
  },
  {
   "cell_type": "code",
   "execution_count": null,
   "id": "fe2a65fe",
   "metadata": {},
   "outputs": [],
   "source": []
  },
  {
   "cell_type": "code",
   "execution_count": null,
   "id": "5710ff9e",
   "metadata": {},
   "outputs": [],
   "source": []
  }
 ],
 "metadata": {
  "kernelspec": {
   "display_name": "Python 3 (ipykernel)",
   "language": "python",
   "name": "python3"
  },
  "language_info": {
   "codemirror_mode": {
    "name": "ipython",
    "version": 3
   },
   "file_extension": ".py",
   "mimetype": "text/x-python",
   "name": "python",
   "nbconvert_exporter": "python",
   "pygments_lexer": "ipython3",
   "version": "3.9.12"
  }
 },
 "nbformat": 4,
 "nbformat_minor": 5
}
