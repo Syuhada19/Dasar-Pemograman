{
 "cells": [
  {
   "cell_type": "code",
   "execution_count": 4,
   "id": "3ff7965b",
   "metadata": {
    "scrolled": true
   },
   "outputs": [
    {
     "ename": "SyntaxError",
     "evalue": "invalid syntax (3298469032.py, line 1)",
     "output_type": "error",
     "traceback": [
      "\u001b[1;36m  Input \u001b[1;32mIn [4]\u001b[1;36m\u001b[0m\n\u001b[1;33m    num 1 = 20\u001b[0m\n\u001b[1;37m        ^\u001b[0m\n\u001b[1;31mSyntaxError\u001b[0m\u001b[1;31m:\u001b[0m invalid syntax\n"
     ]
    }
   ],
   "source": [
    "num1 = 20\n",
    "num2 = 7\n",
    "\n",
    "\n",
    "hasil_jumlah = num 1 + num 2\n",
    "hasil_kurang = num 1 - num 2\n",
    "hasil_kali = num 1 * num 2\n",
    "hasil_bagi = num 1 / num 2\n",
    "hasil_bagi_bulat = num 1 // num 2\n",
    "hasil_pangkat = num 1 ** num 2\n",
    "\n",
    "print(hasil_jumlah)\n",
    "print(hasil_kurang)\n",
    "print(hasil_kali)\n",
    "print(hasil_bagi)\n",
    "print(hasil_bagi_bulat)\n",
    "print(hasil_pangkat)\n"
   ]
  },
  {
   "cell_type": "code",
   "execution_count": null,
   "id": "ac49326c",
   "metadata": {},
   "outputs": [],
   "source": []
  },
  {
   "cell_type": "code",
   "execution_count": 18,
   "id": "ad91b0f7",
   "metadata": {},
   "outputs": [
    {
     "name": "stdout",
     "output_type": "stream",
     "text": [
      "30\n",
      "35\n",
      "33\n",
      "495\n",
      "24.75\n",
      "2.0\n",
      "1048576.0\n"
     ]
    }
   ],
   "source": [
    "print(\"operator penugasan\")\n",
    "\n",
    "x = 30\n",
    "print(x) #10\n",
    "x += 5 #x = x + 5\n",
    "print(x) #15\n",
    "x -= 2 #x = x - 2\n",
    "print(x) #13\n",
    "x *= 15 #x = x * 15\n",
    "print(x) #195\n",
    "x /= 20 #x = x / 20\n",
    "print(x) #9.75\n",
    "x //= 10.5 #x = x // 10.5\n",
    "print(x)\n",
    "x **= 20 #x = ** 20\n",
    "print(x)"
   ]
  },
  {
   "cell_type": "code",
   "execution_count": 20,
   "id": "5f159941",
   "metadata": {},
   "outputs": [
    {
     "name": "stdout",
     "output_type": "stream",
     "text": [
      "False\n",
      "True\n",
      "False\n",
      "True\n",
      "True\n",
      "True\n"
     ]
    }
   ],
   "source": [
    "print(\"operator perbandingan\")\n",
    "\n",
    "y = 5\n",
    "z = 6\n",
    "\n",
    "print(y == z) #false\n",
    "print(y != z) #true\n",
    "print(y > z) #false\n",
    "print(y < z) #true\n",
    "print(y >= 5) #true\n",
    "print(z <= 6) #true"
   ]
  },
  {
   "cell_type": "code",
   "execution_count": 21,
   "id": "49b63031",
   "metadata": {},
   "outputs": [
    {
     "name": "stdout",
     "output_type": "stream",
     "text": [
      "operator logika\n",
      "True\n",
      "True\n",
      "False\n"
     ]
    }
   ],
   "source": [
    "#operator logika\n",
    "\n",
    "\n",
    "val1 = 10\n",
    "val2 = 5\n",
    "\n",
    "opr_and = val1 > val2 and val1 < 11 #True\n",
    "opr_or = val1 == 9 or val2 >=5 #True\n",
    "opr_not = not(opr_and and opr_or) #False\n",
    "\n",
    "print(opr_and)\n",
    "print(opr_or)\n",
    "print(opr_not)"
   ]
  },
  {
   "cell_type": "code",
   "execution_count": 26,
   "id": "777b5b6f",
   "metadata": {},
   "outputs": [
    {
     "name": "stdout",
     "output_type": "stream",
     "text": [
      "operator identitas\n",
      "True\n",
      "False\n",
      "True\n",
      "False\n"
     ]
    }
   ],
   "source": [
    "#operator identitas\n",
    "\n",
    "fruits = [\"Apel\", \"Semangka\", \"Durian\"]\n",
    "fav_fruits = fruits\n",
    "your_fruits = [\"Apel\", \"Semangka\", \"Durian\"]\n",
    "name = \"Rendi\"\n",
    "your_name = \"Rendi\"\n",
    "\n",
    "print(fav_fruits is fruits)\n",
    "print(fruits is your_fruits)\n",
    "print(name is your_name)\n",
    "print(fav_fruits is not fruits)"
   ]
  },
  {
   "cell_type": "code",
   "execution_count": 30,
   "id": "8fccf1a1",
   "metadata": {},
   "outputs": [
    {
     "name": "stdout",
     "output_type": "stream",
     "text": [
      "True\n",
      "False\n",
      "False\n",
      "False\n"
     ]
    }
   ],
   "source": [
    "city = [\"jakarta\", \"malang\", \"sukabumi\"]\n",
    "\n",
    "print(\"jakarta\" in city)\n",
    "print(\"bandung\" in city)\n",
    "print(\"malang\" not in city)\n",
    "print(\"sukabumi\" in city and  \"malang\" not in city)"
   ]
  },
  {
   "cell_type": "code",
   "execution_count": 33,
   "id": "b0917e8e",
   "metadata": {},
   "outputs": [
    {
     "name": "stdout",
     "output_type": "stream",
     "text": [
      "256\n",
      "32\n",
      "15\n",
      "255\n",
      "240\n"
     ]
    }
   ],
   "source": [
    "#Operator bitwise\n",
    "\n",
    "nilai1 = 255\n",
    "nilai2 = 15\n",
    "bit_and = nilai1 & nilai2\n",
    "bit_or = nilai1 | nilai2\n",
    "bit_xor = nilai1 ^ nilai2\n",
    "\n",
    "#11111111\n",
    "#00001111\n",
    "#---------------and\n",
    "#00001111=> 15\n",
    "#---------------or\n",
    "#11111111=> 255\n",
    "#---------------xor\n",
    "#11110000=> 240\n",
    "\n",
    "#Shift left\n",
    "print(128 << 1)\n",
    "#Shift right\n",
    "print(128 >> 2)\n",
    "\n",
    "print(bit_and)\n",
    "print(bit_or)\n",
    "print(bit_xor)"
   ]
  },
  {
   "cell_type": "code",
   "execution_count": null,
   "id": "54e2d301",
   "metadata": {},
   "outputs": [],
   "source": [
    "#Input Output\n",
    "\n"
   ]
  }
 ],
 "metadata": {
  "kernelspec": {
   "display_name": "Python 3 (ipykernel)",
   "language": "python",
   "name": "python3"
  },
  "language_info": {
   "codemirror_mode": {
    "name": "ipython",
    "version": 3
   },
   "file_extension": ".py",
   "mimetype": "text/x-python",
   "name": "python",
   "nbconvert_exporter": "python",
   "pygments_lexer": "ipython3",
   "version": "3.9.12"
  }
 },
 "nbformat": 4,
 "nbformat_minor": 5
}
