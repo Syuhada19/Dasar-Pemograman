{
 "cells": [
  {
   "cell_type": "code",
   "execution_count": 18,
   "id": "e47158b6",
   "metadata": {},
   "outputs": [
    {
     "name": "stdout",
     "output_type": "stream",
     "text": [
      "Isikan nilai pemograman :-10\n",
      "-10 = input salah\n"
     ]
    }
   ],
   "source": [
    "#konversi nilai\n",
    "\n",
    "nilai  = int(input('Isikan nilai pemograman :'))\n",
    "\n",
    "if nilai < 0:\n",
    "    print(f\"{nilai} = input salah\")\n",
    "elif nilai <= 49:\n",
    "    print(f\"{nilai} = E\")\n",
    "elif nilai <= 59:\n",
    "    print(f\"{nilai} = D\")\n",
    "elif nilai <= 69:\n",
    "    print(f\"{nilai} = C\")\n",
    "elif nilai <= 79:\n",
    "    print(f\"{nilai} = B\")\n",
    "elif nilai <= 100:\n",
    "    print(f\"{nilai} = A\")\n",
    "elif nilai > 100:\n",
    "    print(f\"{nilai} = input salah\")"
   ]
  },
  {
   "cell_type": "code",
   "execution_count": 31,
   "id": "3493cda9",
   "metadata": {
    "collapsed": true
   },
   "outputs": [
    {
     "ename": "SyntaxError",
     "evalue": "invalid syntax (2471888884.py, line 10)",
     "output_type": "error",
     "traceback": [
      "\u001b[1;36m  Input \u001b[1;32mIn [31]\u001b[1;36m\u001b[0m\n\u001b[1;33m    if password == 'admin'\u001b[0m\n\u001b[1;37m                          ^\u001b[0m\n\u001b[1;31mSyntaxError\u001b[0m\u001b[1;31m:\u001b[0m invalid syntax\n"
     ]
    }
   ],
   "source": [
    "username = input('masukkan username')\n",
    "password = input('masukkan password')\n",
    "\n",
    "if username == 'admin':\n",
    "    if password == 'admin':\n",
    "        print(f'selamat datang {username}')\n",
    "    else:\n",
    "        print('Password anda salah')\n",
    "else:\n",
    "    if password == 'admin'\n",
    "        print(\"Username anda salah\")\n",
    "    else:\n",
    "        print(\"Username dan password anda salah\")"
   ]
  },
  {
   "cell_type": "code",
   "execution_count": null,
   "id": "dcb2b4de",
   "metadata": {},
   "outputs": [],
   "source": [
    "umur = int(input('masukkan umur :'))\n",
    "ttl = input('masukkan tempat tinggal :')\n",
    "uang = int(input('uang tabungan dalam dollar :'))\n",
    "\n",
    "if umur >= 40:\n",
    "    if ttl == 'Nevada' or 'New York' or 'Havana':\n",
    "        if uang >= 10000000:\n",
    "            print(\"Kemungkinan adalah seorang anggota mafia dengan pangkat Don\")\n",
    "    \n",
    "        else:\n",
    "            print(\"Tidak Mencurigakan\")\n",
    "    \n",
    "elif umur >= 25 <= 40:\n",
    "    if ttl == 'New Jersey' or 'Manhattan' or 'Nevada':\n",
    "        if uang <= 2000000:\n",
    "            print(\"Kemungkinan adalah seorang anggota mafia dengan pangkat Underboss\")\n",
    "\n",
    "        else:\n",
    "            print(\"Tidak Mencurigakan\")   \n",
    "    \n",
    "elif umur >= 18 <= 24:\n",
    "    if ttl == 'California' or 'Detroit' or 'Boston':\n",
    "        if uang <= 1000000:\n",
    "            print(\"Kemungkinan adalah seorang anggota mafia dengan pangkat Capo\")\n",
    "  \n",
    "        else:\n",
    "            print(\"Tidak Mencurigakan\")\n",
    "else:\n",
    "    print(\"Tidak Mencurigakan\")    "
   ]
  },
  {
   "cell_type": "code",
   "execution_count": null,
   "id": "e53d872e",
   "metadata": {},
   "outputs": [],
   "source": []
  },
  {
   "cell_type": "code",
   "execution_count": null,
   "id": "27feebf2",
   "metadata": {},
   "outputs": [],
   "source": []
  }
 ],
 "metadata": {
  "kernelspec": {
   "display_name": "Python 3 (ipykernel)",
   "language": "python",
   "name": "python3"
  },
  "language_info": {
   "codemirror_mode": {
    "name": "ipython",
    "version": 3
   },
   "file_extension": ".py",
   "mimetype": "text/x-python",
   "name": "python",
   "nbconvert_exporter": "python",
   "pygments_lexer": "ipython3",
   "version": "3.9.12"
  }
 },
 "nbformat": 4,
 "nbformat_minor": 5
}
